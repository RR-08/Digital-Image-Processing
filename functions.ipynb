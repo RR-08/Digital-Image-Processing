{
  "nbformat": 4,
  "nbformat_minor": 0,
  "metadata": {
    "colab": {
      "provenance": [],
      "authorship_tag": "ABX9TyMFFcRw0+PudpZ65/qO6/sF",
      "include_colab_link": true
    },
    "kernelspec": {
      "name": "python3",
      "display_name": "Python 3"
    },
    "language_info": {
      "name": "python"
    }
  },
  "cells": [
    {
      "cell_type": "markdown",
      "metadata": {
        "id": "view-in-github",
        "colab_type": "text"
      },
      "source": [
        "<a href=\"https://colab.research.google.com/github/RR-08/Digital-Image-Processing/blob/main/functions.ipynb\" target=\"_parent\"><img src=\"https://colab.research.google.com/assets/colab-badge.svg\" alt=\"Open In Colab\"/></a>"
      ]
    },
    {
      "cell_type": "code",
      "execution_count": null,
      "metadata": {
        "id": "raQ6nC00tFyy"
      },
      "outputs": [],
      "source": [
        "import cv2\n",
        "import numpy as np\n",
        "import matplotlib.pyplot as plt\n",
        "\n",
        "img=cv2.imread(\"path\",cv2.COLOR_BGR2RGB)\n",
        "\n",
        "def grey_level_slicing(image,min,max):\n",
        "  mask=(image>=min)&(image<=max)\n",
        "  slicedimg=np.where(mask,image,0)\n",
        "\n",
        "  return slicedimg\n",
        "\n",
        "def contrast_streching(image):\n",
        "  min=np.min(image)\n",
        "  max=np.max(image)\n",
        "\n",
        "  strchImg=((image-min)/(max-min)*255).astype(np.uint8)\n",
        "\n",
        "  return strchImg\n",
        "\n",
        "def log_transfomation(image,c):\n",
        "\n",
        "  logImg=c*np.log(1+image.type(float))\n",
        "\n",
        "  logImg=np.clip(logImg,0,255).astype(np.uint8)\n",
        "\n",
        "  return logImg\n",
        "\n",
        "def thresholding(image,threshold):\n",
        "\n",
        "  mask=(image>threshold).astype(np.uint8)*255\n",
        "\n",
        "  thresImg=mask*image\n",
        "\n",
        "  return thresImg\n",
        "\n",
        "def negative(image):\n",
        "\n",
        "  neg=255-image\n",
        "\n",
        "  return neg\n",
        "\n",
        "def bit_plane_slicing(image,bit):\n",
        "\n",
        "  plane=(image>>bit)&1\n",
        "  plane*=255\n",
        "\n",
        "  return plane.astype(np.uint8)\n",
        "\n"
      ]
    }
  ]
}